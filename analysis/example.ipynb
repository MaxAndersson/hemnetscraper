{
 "cells": [
  {
   "cell_type": "markdown",
   "metadata": {},
   "source": [
    "# Analysis\n",
    "An example analysis of the exported data from the Hemnet crawl.\n",
    "Point **.read_csv** to the file that you crawled yourself to retrieve your own data. \n",
    "  - Type some Markdown on the left"
   ]
  },
  {
   "cell_type": "code",
   "execution_count": 18,
   "metadata": {},
   "outputs": [],
   "source": [
    "import pandas as pd\n",
    "import matplotlib.pyplot as plt"
   ]
  },
  {
   "cell_type": "code",
   "execution_count": 22,
   "metadata": {},
   "outputs": [],
   "source": [
    "'''\n",
    "Where \"example.csv\" is another file from the root directory - resources/result.csv - after a crawl\n",
    "'''\n",
    "df = pd.read_csv(\"example.csv\")"
   ]
  },
  {
   "cell_type": "code",
   "execution_count": 20,
   "metadata": {},
   "outputs": [
    {
     "data": {
      "text/html": [
       "<div>\n",
       "<style scoped>\n",
       "    .dataframe tbody tr th:only-of-type {\n",
       "        vertical-align: middle;\n",
       "    }\n",
       "\n",
       "    .dataframe tbody tr th {\n",
       "        vertical-align: top;\n",
       "    }\n",
       "\n",
       "    .dataframe thead th {\n",
       "        text-align: right;\n",
       "    }\n",
       "</style>\n",
       "<table border=\"1\" class=\"dataframe\">\n",
       "  <thead>\n",
       "    <tr style=\"text-align: right;\">\n",
       "      <th></th>\n",
       "      <th>price_per_area</th>\n",
       "      <th>rooms</th>\n",
       "      <th>fee</th>\n",
       "      <th>living_space</th>\n",
       "      <th>supplemental_area</th>\n",
       "      <th>price</th>\n",
       "      <th>asked_price</th>\n",
       "      <th>land_area</th>\n",
       "      <th>longitude</th>\n",
       "      <th>latitude</th>\n",
       "      <th>typeSummary</th>\n",
       "      <th>year</th>\n",
       "      <th>month</th>\n",
       "      <th>day</th>\n",
       "      <th>floor</th>\n",
       "    </tr>\n",
       "  </thead>\n",
       "  <tbody>\n",
       "    <tr>\n",
       "      <th>0</th>\n",
       "      <td>32051.0</td>\n",
       "      <td>2.0</td>\n",
       "      <td>3042.0</td>\n",
       "      <td>39.0</td>\n",
       "      <td>NaN</td>\n",
       "      <td>1250000.0</td>\n",
       "      <td>1175000.0</td>\n",
       "      <td>NaN</td>\n",
       "      <td>60.677109</td>\n",
       "      <td>17.127630</td>\n",
       "      <td>Bostadsrättslägenhet</td>\n",
       "      <td>2020</td>\n",
       "      <td>10</td>\n",
       "      <td>12</td>\n",
       "      <td>0.0</td>\n",
       "    </tr>\n",
       "    <tr>\n",
       "      <th>1</th>\n",
       "      <td>20764.0</td>\n",
       "      <td>3.0</td>\n",
       "      <td>4233.0</td>\n",
       "      <td>72.0</td>\n",
       "      <td>NaN</td>\n",
       "      <td>1495000.0</td>\n",
       "      <td>1495000.0</td>\n",
       "      <td>NaN</td>\n",
       "      <td>59.309946</td>\n",
       "      <td>14.093055</td>\n",
       "      <td>Bostadsrättslägenhet</td>\n",
       "      <td>2020</td>\n",
       "      <td>10</td>\n",
       "      <td>12</td>\n",
       "      <td>0.0</td>\n",
       "    </tr>\n",
       "    <tr>\n",
       "      <th>2</th>\n",
       "      <td>20608.0</td>\n",
       "      <td>6.0</td>\n",
       "      <td>NaN</td>\n",
       "      <td>148.0</td>\n",
       "      <td>2.0</td>\n",
       "      <td>3050000.0</td>\n",
       "      <td>2975000.0</td>\n",
       "      <td>376.0</td>\n",
       "      <td>58.985308</td>\n",
       "      <td>17.884849</td>\n",
       "      <td>Kedjehus</td>\n",
       "      <td>2020</td>\n",
       "      <td>10</td>\n",
       "      <td>12</td>\n",
       "      <td>0.0</td>\n",
       "    </tr>\n",
       "    <tr>\n",
       "      <th>3</th>\n",
       "      <td>16667.0</td>\n",
       "      <td>5.0</td>\n",
       "      <td>NaN</td>\n",
       "      <td>150.0</td>\n",
       "      <td>82.0</td>\n",
       "      <td>2500000.0</td>\n",
       "      <td>1950000.0</td>\n",
       "      <td>930.0</td>\n",
       "      <td>56.084315</td>\n",
       "      <td>14.479011</td>\n",
       "      <td>Villa</td>\n",
       "      <td>2020</td>\n",
       "      <td>10</td>\n",
       "      <td>12</td>\n",
       "      <td>0.0</td>\n",
       "    </tr>\n",
       "    <tr>\n",
       "      <th>4</th>\n",
       "      <td>112868.0</td>\n",
       "      <td>3.0</td>\n",
       "      <td>3076.0</td>\n",
       "      <td>68.0</td>\n",
       "      <td>NaN</td>\n",
       "      <td>7675000.0</td>\n",
       "      <td>6795000.0</td>\n",
       "      <td>NaN</td>\n",
       "      <td>59.336580</td>\n",
       "      <td>18.053622</td>\n",
       "      <td>Bostadsrättslägenhet</td>\n",
       "      <td>2020</td>\n",
       "      <td>10</td>\n",
       "      <td>12</td>\n",
       "      <td>0.0</td>\n",
       "    </tr>\n",
       "  </tbody>\n",
       "</table>\n",
       "</div>"
      ],
      "text/plain": [
       "   price_per_area  rooms     fee  living_space  supplemental_area      price  \\\n",
       "0         32051.0    2.0  3042.0          39.0                NaN  1250000.0   \n",
       "1         20764.0    3.0  4233.0          72.0                NaN  1495000.0   \n",
       "2         20608.0    6.0     NaN         148.0                2.0  3050000.0   \n",
       "3         16667.0    5.0     NaN         150.0               82.0  2500000.0   \n",
       "4        112868.0    3.0  3076.0          68.0                NaN  7675000.0   \n",
       "\n",
       "   asked_price  land_area  longitude   latitude           typeSummary  year  \\\n",
       "0    1175000.0        NaN  60.677109  17.127630  Bostadsrättslägenhet  2020   \n",
       "1    1495000.0        NaN  59.309946  14.093055  Bostadsrättslägenhet  2020   \n",
       "2    2975000.0      376.0  58.985308  17.884849              Kedjehus  2020   \n",
       "3    1950000.0      930.0  56.084315  14.479011                 Villa  2020   \n",
       "4    6795000.0        NaN  59.336580  18.053622  Bostadsrättslägenhet  2020   \n",
       "\n",
       "   month  day  floor  \n",
       "0     10   12    0.0  \n",
       "1     10   12    0.0  \n",
       "2     10   12    0.0  \n",
       "3     10   12    0.0  \n",
       "4     10   12    0.0  "
      ]
     },
     "execution_count": 20,
     "metadata": {},
     "output_type": "execute_result"
    }
   ],
   "source": [
    "df.head()"
   ]
  },
  {
   "cell_type": "code",
   "execution_count": 21,
   "metadata": {},
   "outputs": [
    {
     "data": {
      "text/plain": [
       "[]"
      ]
     },
     "execution_count": 21,
     "metadata": {},
     "output_type": "execute_result"
    },
    {
     "data": {
      "image/png": "[encoded data removed]",
      "text/plain": [
       "<Figure size 432x288 with 1 Axes>"
      ]
     },
     "metadata": {
      "needs_background": "light"
     },
     "output_type": "display_data"
    }
   ],
   "source": [
    "df.price_per_area.hist().plot()"
   ]
  }
 ],
 "metadata": {
  "kernelspec": {
   "display_name": "Python 3",
   "language": "python",
   "name": "python3"
  },
  "language_info": {
   "codemirror_mode": {
    "name": "ipython",
    "version": 3
   },
   "file_extension": ".py",
   "mimetype": "text/x-python",
   "name": "python",
   "nbconvert_exporter": "python",
   "pygments_lexer": "ipython3",
   "version": "3.8.5"
  }
 },
 "nbformat": 4,
 "nbformat_minor": 4
}
